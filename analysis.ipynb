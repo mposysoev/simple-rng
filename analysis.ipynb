{
 "cells": [
  {
   "cell_type": "code",
   "execution_count": 1,
   "metadata": {},
   "outputs": [],
   "source": [
    "import numpy as np\n",
    "from matplotlib import pyplot as plt"
   ]
  },
  {
   "cell_type": "code",
   "execution_count": 3,
   "metadata": {},
   "outputs": [
    {
     "data": {
      "text/plain": [
       "100000"
      ]
     },
     "execution_count": 3,
     "metadata": {},
     "output_type": "execute_result"
    }
   ],
   "source": [
    "data = np.loadtxt(\"result.txt\")\n",
    "len(data)"
   ]
  },
  {
   "cell_type": "code",
   "execution_count": 5,
   "metadata": {},
   "outputs": [
    {
     "data": {
      "text/plain": [
       "(array([ 96.,  85.,  78.,  95.,  87.,  98.,  96., 102.,  90., 114., 102.,\n",
       "        106., 101., 105., 104.,  98.,  95.,  93., 103.,  86., 113.,  99.,\n",
       "        100.,  96.,  94., 107., 113.,  92., 105.,  98.,  88., 104.,  88.,\n",
       "         99., 103., 108., 110.,  97.,  92.,  85., 101., 112., 116., 109.,\n",
       "         95., 107., 101.,  96., 105., 116., 105.,  89., 108., 119.,  94.,\n",
       "        111., 111.,  78.,  91.,  93., 112.,  84., 113.,  90., 112.,  86.,\n",
       "        104.,  78.,  89.,  89., 105., 111., 110., 101.,  86.,  93.,  90.,\n",
       "        115., 101.,  89.,  94.,  95., 112.,  87., 129., 106.,  88.,  94.,\n",
       "         98., 115., 112., 100., 108.,  91., 105.,  97.,  93.,  89., 105.,\n",
       "         79.,  94., 102.,  86.,  86.,  90., 122., 116., 107., 116., 113.,\n",
       "        123.,  98., 109., 109.,  99., 113.,  88.,  97.,  85., 105.,  81.,\n",
       "         95.,  97., 111.,  88., 108., 107., 120., 100.,  96., 105.,  94.,\n",
       "         95., 114.,  88., 106., 128., 107., 100., 103., 116.,  98., 104.,\n",
       "        105., 110.,  90.,  86.,  94., 109., 108.,  94.,  96., 109.,  84.,\n",
       "        109.,  99., 110.,  92.,  84., 114., 105.,  77., 107., 106., 114.,\n",
       "         94.,  92.,  95., 115.,  99.,  93., 112., 100.,  96., 122., 100.,\n",
       "        105.,  92.,  86., 113., 108., 114.,  98.,  89.,  89., 109.,  99.,\n",
       "        104., 102., 107., 111., 103., 108., 101.,  91., 106., 102., 109.,\n",
       "        105.,  92.,  97., 107., 108.,  98., 105., 115., 110.,  92., 101.,\n",
       "         98., 103.,  77.,  77.,  81., 107., 117.,  85.,  91., 104., 107.,\n",
       "        120.,  86., 106., 106., 102.,  93., 111.,  86.,  90.,  99.,  76.,\n",
       "        108.,  90.,  82., 100., 112., 103.,  94., 110.,  90.,  96.,  92.,\n",
       "         91.,  85.,  90.,  84.,  93.,  88., 102., 111.,  80., 113.,  89.,\n",
       "        105., 102.,  95.,  99., 103.,  95., 100.,  98., 108., 106., 110.,\n",
       "        122.,  99.,  81.,  97.,  85., 102.,  98., 104.,  87., 101.,  94.,\n",
       "         93., 106.,  92., 123.,  91.,  98.,  96., 107., 132., 103.,  90.,\n",
       "        101.,  83., 103., 116., 106., 103., 113., 110., 102.,  84.,  83.,\n",
       "        120., 110.,  88.,  96.,  91.,  93., 100.,  93.,  88., 115.,  89.,\n",
       "        112.,  96.,  81., 118.,  85.,  98., 112.,  89., 104.,  83., 114.,\n",
       "        101.,  97.,  95.,  93.,  97., 100.,  91., 105., 114., 102.,  97.,\n",
       "        104.,  91.,  91., 111., 102.,  95., 108., 105.,  93.,  99., 103.,\n",
       "         99., 108., 120.,  93., 100., 105.,  92.,  88., 107., 102.,  95.,\n",
       "        101.,  97., 108., 103., 111., 108.,  95.,  95., 104., 101., 101.,\n",
       "        103., 107., 103., 100., 105.,  84.,  79.,  98., 100., 103., 127.,\n",
       "         95., 113.,  81., 113., 106.,  95.,  99., 105., 104., 119.,  96.,\n",
       "        110.,  97.,  98., 110., 101.,  95.,  85.,  95., 109.,  92., 109.,\n",
       "        126.,  90.,  97., 119., 111., 109.,  95., 102., 101., 117., 101.,\n",
       "         91., 117.,  97., 109., 107., 112.,  90., 103., 104.,  91., 101.,\n",
       "         77., 105.,  89.,  93.,  98., 101.,  89.,  85.,  88., 105.,  98.,\n",
       "         99., 103., 108.,  91.,  97.,  98.,  94., 101., 105., 101., 111.,\n",
       "        109., 108., 102.,  95.,  93.,  99.,  89., 110., 102.,  92.,  92.,\n",
       "         97., 102., 117., 114., 108., 106., 107.,  95., 120.,  97., 106.,\n",
       "        111., 107., 102.,  90., 105.,  90., 102., 102., 102., 104., 111.,\n",
       "         93., 103., 110., 104., 107.,  90., 108., 101., 104.,  96.,  89.,\n",
       "         84., 107., 102., 112.,  89.,  98.,  99., 104.,  95.,  94.,  95.,\n",
       "        100., 107., 116., 101.,  90.,  83., 100.,  86.,  92., 110., 100.,\n",
       "         94.,  88., 100., 103., 105., 105., 124.,  96., 109., 102.,  92.,\n",
       "         93.,  95., 106., 100., 123.,  93.,  97.,  89., 100., 104., 115.,\n",
       "        100., 104., 101., 112.,  90., 108., 107.,  99., 103., 100., 107.,\n",
       "         87., 106., 118., 102.,  88.,  98.,  98., 111., 117.,  83.,  94.,\n",
       "        100.,  96., 108., 104., 110.,  98.,  92.,  97., 107.,  94., 115.,\n",
       "         95.,  86.,  97.,  96.,  96.,  98., 110., 115.,  91.,  87., 108.,\n",
       "         93., 109., 114.,  99., 105.,  97., 105., 106., 128.,  85., 111.,\n",
       "         97., 100.,  97., 105., 109.,  84., 105., 109.,  98., 105., 102.,\n",
       "         90.,  94.,  99.,  97., 116.,  96.,  86., 109.,  90., 120., 101.,\n",
       "         98., 114.,  96.,  95.,  91.,  91.,  89.,  87.,  92., 104.,  90.,\n",
       "        114., 105.,  99.,  86.,  96.,  94.,  91.,  94.,  97.,  80.,  85.,\n",
       "         92., 111., 122., 101., 103.,  94., 104.,  91., 109., 101., 110.,\n",
       "         91., 108.,  94., 102., 106.,  82., 114.,  89., 103.,  96.,  97.,\n",
       "        101.,  87., 107., 114., 104., 103., 109.,  96., 107.,  93.,  96.,\n",
       "        114., 111., 109., 104.,  87.,  86.,  90.,  81.,  91.,  83., 101.,\n",
       "        107.,  98.,  83.,  94.,  74., 109., 102.,  97., 109., 100., 101.,\n",
       "        100., 108.,  98.,  89., 108., 108.,  89.,  91.,  96., 103., 101.,\n",
       "         82.,  91., 125., 106.,  83.,  83.,  86., 100.,  96., 109.,  98.,\n",
       "        107., 101.,  82., 110., 103., 126., 102.,  96.,  92., 105.,  93.,\n",
       "        101.,  97.,  90., 111., 110., 108.,  93.,  95.,  79.,  90.,  87.,\n",
       "        104., 116.,  95.,  92., 112.,  98.,  84.,  99., 120.,  96., 100.,\n",
       "         95., 117.,  90., 100., 113., 106., 118.,  86.,  87.,  90.,  97.,\n",
       "         99.,  96., 101.,  96.,  99.,  96.,  91., 110.,  94.,  98.,  91.,\n",
       "         99.,  91., 110.,  96.,  94.,  97., 105.,  91., 109., 101., 110.,\n",
       "        104., 119., 106.,  99., 104., 109.,  79.,  88.,  95., 103., 102.,\n",
       "        102., 102.,  98., 102., 115., 104.,  94.,  83.,  91., 112., 107.,\n",
       "        102., 108.,  96.,  93.,  94., 110., 118.,  94.,  96.,  99.,  93.,\n",
       "         81.,  91.,  90., 100., 108., 103., 100., 104., 102.,  92.,  92.,\n",
       "         95., 106., 102.,  98.,  92., 106., 105.,  95., 103., 103., 100.,\n",
       "        103., 113., 109.,  97.,  90., 104., 102.,  90.,  98., 108.,  87.,\n",
       "         99., 103., 107.,  93., 112., 107., 113., 103., 103.,  89.,  86.,\n",
       "        107., 104.,  85.,  92.,  99.,  82.,  92., 103.,  86.,  91.,  98.,\n",
       "        107., 101., 107.,  96.,  97., 108.,  84.,  93.,  90., 109.,  96.,\n",
       "        104., 111., 109., 107.,  86.,  75., 111., 121.,  94., 100.,  94.,\n",
       "         95.,  98.,  91.,  96.,  95.,  97., 102.,  75., 112., 111., 103.,\n",
       "         99., 117., 117., 110., 102., 124.,  98.,  91., 101., 101.,  89.,\n",
       "         80.,  95., 104.,  99.,  89.,  90., 116.,  95.,  78., 104., 101.,\n",
       "        120., 106.,  84., 112.,  89., 119.,  74.,  93.,  92.,  99.,  92.,\n",
       "         90.,  83.,  91., 109.,  99., 103.,  96., 120., 109., 102.,  92.,\n",
       "         80., 109.,  98., 124., 103.,  97.,  86., 101., 110.,  96., 118.,\n",
       "         97.,  94.,  96., 100., 103., 109.,  98.,  99.,  99., 107., 109.,\n",
       "        100., 101.,  98.,  95., 112., 115.,  94.,  96., 101.,  96.,  93.,\n",
       "        114.,  99.,  96., 110., 108., 114.,  89., 127., 105.,  98.,  92.,\n",
       "         94.,  95.,  93., 102., 123., 100., 125.,  92., 102., 109.,  93.,\n",
       "         97., 101., 103.,  98.,  95.,  88., 102., 100., 100.,  87.]),\n",
       " array([-0.99998   , -0.99798007, -0.99598014, ...,  0.99595014,\n",
       "         0.99795007,  0.99995   ]),\n",
       " <BarContainer object of 1000 artists>)"
      ]
     },
     "execution_count": 5,
     "metadata": {},
     "output_type": "execute_result"
    },
    {
     "data": {
      "image/png": "[encoded data removed]",
      "text/plain": [
       "<Figure size 640x480 with 1 Axes>"
      ]
     },
     "metadata": {},
     "output_type": "display_data"
    }
   ],
   "source": [
    "plt.hist(data, bins=1000)"
   ]
  },
  {
   "cell_type": "code",
   "execution_count": null,
   "metadata": {},
   "outputs": [],
   "source": []
  }
 ],
 "metadata": {
  "kernelspec": {
   "display_name": "Python 3",
   "language": "python",
   "name": "python3"
  },
  "language_info": {
   "codemirror_mode": {
    "name": "ipython",
    "version": 3
   },
   "file_extension": ".py",
   "mimetype": "text/x-python",
   "name": "python",
   "nbconvert_exporter": "python",
   "pygments_lexer": "ipython3",
   "version": "3.11.2"
  },
  "orig_nbformat": 4
 },
 "nbformat": 4,
 "nbformat_minor": 2
}
